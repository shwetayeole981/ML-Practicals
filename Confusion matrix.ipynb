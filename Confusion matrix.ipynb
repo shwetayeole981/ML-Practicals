{
 "cells": [
  {
   "cell_type": "code",
   "execution_count": 1,
   "id": "639cc023",
   "metadata": {},
   "outputs": [],
   "source": [
    "import numpy as "
   ]
  },
  {
   "cell_type": "code",
   "execution_count": 3,
   "id": "8a547d95",
   "metadata": {},
   "outputs": [],
   "source": [
    "def confusion_matrix(actual, predicated):\n",
    "    tp = sum(1 for i in range(len(actual)) if actual[i] == 1 and predicated[i] == 1)\n",
    "    fp = sum(1 for i in range(len(actual)) if actual[i] == 0 and predicated[i] == 1)\n",
    "    tn = sum(1 for i in range(len(actual)) if actual[i] == 0 and predicated[i] == 0)\n",
    "    fn = sum(1 for i in range(len(actual)) if actual[i] == 1 and predicated[i] == 0) \n",
    "    return tp, fp, tn, fn\n",
    "\n",
    "def precision(tp, fp):\n",
    "    if tp + fp == 0:\n",
    "        return 0\n",
    "    return tp / (tp +fp)\n",
    "\n",
    "def recall(tp, fn):\n",
    "    if tp + fn == 0:\n",
    "        return 0\n",
    "    return tp / (tp + fn)\n",
    "\n",
    "def f_measure(precision, recall):\n",
    "    if precision + recall == 0:\n",
    "        return 0\n",
    "    return 2 * precision * recall / (precision + recall)\n",
    "    \n",
    "    "
   ]
  },
  {
   "cell_type": "code",
   "execution_count": 6,
   "id": "a08c0880",
   "metadata": {},
   "outputs": [],
   "source": [
    "def display_confusion_matrix(tp, fp, tn, fn):\n",
    "    print(\"Confusion Matrix:\")\n",
    "    print(f\"       Predicted\")\n",
    "    print(f\"Actual   |  Positive  |  Negative\")\n",
    "    print(f\"---------------------------------\")\n",
    "    print(f\"Positive |   {tp}     |     {fn}\")\n",
    "    print(f\"Negative |   {fp}     |     {tn}\")\n",
    "          "
   ]
  },
  {
   "cell_type": "code",
   "execution_count": 7,
   "id": "8debddc2",
   "metadata": {},
   "outputs": [
    {
     "name": "stdout",
     "output_type": "stream",
     "text": [
      "Confusion Matrix:\n",
      "       Predicted\n",
      "Actual   |  Positive  |  Negative\n",
      "---------------------------------\n",
      "Positive |   4     |     1\n",
      "Negative |   1     |     2\n",
      "\\Precision: 0.8\n",
      "Recall: 0.8\n",
      "F-Measure: 0.8000000000000002\n"
     ]
    }
   ],
   "source": [
    "actual = [1, 0, 1, 1, 0, 1, 0, 1]\n",
    "predicted = [1, 1, 1, 1, 0, 1, 0, 0]\n",
    "\n",
    "tp, fp, tn, fn = confusion_matrix(actual, predicted)\n",
    "prec = precision(tp, fp)\n",
    "rec = recall(tp, fn)\n",
    "f_meas = f_measure(prec, rec)\n",
    "\n",
    "display_confusion_matrix(tp, fp, tn, fn)\n",
    "print(\"\\Precision:\", prec)\n",
    "print(\"Recall:\", rec)\n",
    "print(\"F-Measure:\", f_meas)\n"
   ]
  },
  {
   "cell_type": "code",
   "execution_count": null,
   "id": "a7af57c1",
   "metadata": {},
   "outputs": [],
   "source": []
  }
 ],
 "metadata": {
  "kernelspec": {
   "display_name": "Python 3 (ipykernel)",
   "language": "python",
   "name": "python3"
  },
  "language_info": {
   "codemirror_mode": {
    "name": "ipython",
    "version": 3
   },
   "file_extension": ".py",
   "mimetype": "text/x-python",
   "name": "python",
   "nbconvert_exporter": "python",
   "pygments_lexer": "ipython3",
   "version": "3.11.5"
  }
 },
 "nbformat": 4,
 "nbformat_minor": 5
}
